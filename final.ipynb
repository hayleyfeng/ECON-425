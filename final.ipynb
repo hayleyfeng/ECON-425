{
 "cells": [
  {
   "cell_type": "markdown",
   "id": "d03cce40-c9e1-4c67-9cc3-40aabab2c72b",
   "metadata": {},
   "source": [
    "### Name: Weihan Feng\n",
    "### UID:  605948377"
   ]
  },
  {
   "cell_type": "code",
   "execution_count": 1,
   "id": "f56c1ea3-0d63-4bfa-9fcf-3aa41dac1eb1",
   "metadata": {},
   "outputs": [
    {
     "name": "stdout",
     "output_type": "stream",
     "text": [
      "Requirement already satisfied: imblearn in /opt/conda/lib/python3.11/site-packages (0.0)\n",
      "Requirement already satisfied: imbalanced-learn in /opt/conda/lib/python3.11/site-packages (from imblearn) (0.12.0)\n",
      "Requirement already satisfied: numpy>=1.17.3 in /opt/conda/lib/python3.11/site-packages (from imbalanced-learn->imblearn) (1.26.3)\n",
      "Requirement already satisfied: scipy>=1.5.0 in /opt/conda/lib/python3.11/site-packages (from imbalanced-learn->imblearn) (1.11.4)\n",
      "Requirement already satisfied: scikit-learn>=1.0.2 in /opt/conda/lib/python3.11/site-packages (from imbalanced-learn->imblearn) (1.3.2)\n",
      "Requirement already satisfied: joblib>=1.1.1 in /opt/conda/lib/python3.11/site-packages (from imbalanced-learn->imblearn) (1.3.2)\n",
      "Requirement already satisfied: threadpoolctl>=2.0.0 in /opt/conda/lib/python3.11/site-packages (from imbalanced-learn->imblearn) (3.2.0)\n",
      "Note: you may need to restart the kernel to use updated packages.\n"
     ]
    }
   ],
   "source": [
    "pip install imblearn"
   ]
  },
  {
   "cell_type": "code",
   "execution_count": 3,
   "id": "6bd765cd-a1f0-4039-bdbc-1f02b3d0429f",
   "metadata": {},
   "outputs": [],
   "source": [
    "import numpy as np\n",
    "import pandas as pd\n",
    "import matplotlib.pyplot as plt\n",
    "from statsmodels.discrete.discrete_model import Logit\n",
    "from imblearn.over_sampling import SMOTENC\n",
    "from sklearn.tree import DecisionTreeClassifier\n",
    "from sklearn.ensemble import RandomForestClassifier, RandomForestRegressor\n",
    "from sklearn.linear_model import LassoCV, RidgeCV, LinearRegression,LogisticRegression\n",
    "from sklearn.model_selection import train_test_split, GridSearchCV"
   ]
  },
  {
   "cell_type": "code",
   "execution_count": 4,
   "id": "7d3f7cb5-df22-4651-a15c-7d3d06022067",
   "metadata": {},
   "outputs": [],
   "source": [
    "from sklearn.metrics import accuracy_score, precision_score, recall_score, f1_score\n",
    "from sklearn.metrics import mean_squared_error, precision_recall_curve, mean_squared_error\n",
    "from sklearn.metrics import confusion_matrix, ConfusionMatrixDisplay, zero_one_loss\n",
    "from sklearn.datasets import load_breast_cancer\n",
    "from sklearn.preprocessing import StandardScaler\n",
    "from sklearn.cluster import KMeans\n",
    "from sklearn.decomposition import PCA"
   ]
  },
  {
   "cell_type": "code",
   "execution_count": 5,
   "id": "30cc3418-ce2d-4df5-a700-a2b10f4ad103",
   "metadata": {},
   "outputs": [],
   "source": [
    "data = load_breast_cancer()\n"
   ]
  },
  {
   "cell_type": "code",
   "execution_count": 7,
   "id": "19b1eec3-a955-49e5-82a9-c4b8591e883b",
   "metadata": {},
   "outputs": [
    {
     "name": "stdout",
     "output_type": "stream",
     "text": [
      "(569, 30) (569,)\n"
     ]
    }
   ],
   "source": [
    "### (a) Standardize features\n",
    "X = data.data\n",
    "Y = data.target\n",
    "print(X.shape, Y.shape)\n",
    "### standard\n",
    "scaler = StandardScaler()\n",
    "X_scaled = scaler.fit_transform(X)"
   ]
  },
  {
   "cell_type": "code",
   "execution_count": 8,
   "id": "1bbe36b8-7780-4645-9a49-29660d02c905",
   "metadata": {},
   "outputs": [
    {
     "name": "stderr",
     "output_type": "stream",
     "text": [
      "/opt/conda/lib/python3.11/site-packages/sklearn/cluster/_kmeans.py:1416: FutureWarning: The default value of `n_init` will change from 10 to 'auto' in 1.4. Set the value of `n_init` explicitly to suppress the warning\n",
      "  super()._check_params_vs_input(X, default_n_init=10)\n",
      "/opt/conda/lib/python3.11/site-packages/sklearn/cluster/_kmeans.py:1416: FutureWarning: The default value of `n_init` will change from 10 to 'auto' in 1.4. Set the value of `n_init` explicitly to suppress the warning\n",
      "  super()._check_params_vs_input(X, default_n_init=10)\n"
     ]
    },
    {
     "name": "stdout",
     "output_type": "stream",
     "text": [
      "Loss on full features: 0.9050966608084359\n",
      "Loss on first 2 features: 0.09314586994727592\n"
     ]
    }
   ],
   "source": [
    "### (b) Kmeans\n",
    "### full set of features\n",
    "kmeans_1 = KMeans(n_clusters = 2, random_state = 42).fit(X_scaled)\n",
    "y_pred_1 = kmeans_1.labels_\n",
    "loss_1 = zero_one_loss(Y, y_pred_1)\n",
    "print(f'Loss on full features: {loss_1}')\n",
    "### first 2 principal features\n",
    "pca = PCA(n_components=2)\n",
    "X_scaled_pca = pca.fit_transform(X_scaled)\n",
    "kmeans_2 = KMeans(n_clusters = 2, random_state = 42).fit(X_scaled_pca)\n",
    "y_pred_2 = kmeans_2.labels_\n",
    "loss_2 = zero_one_loss(Y, y_pred_2)\n",
    "print(f'Loss on first 2 features: {loss_2}')\n"
   ]
  },
  {
   "cell_type": "code",
   "execution_count": 10,
   "id": "ead63956-644d-460b-abfd-92d8a0aba94c",
   "metadata": {},
   "outputs": [
    {
     "name": "stdout",
     "output_type": "stream",
     "text": [
      "(455, 30) (455,)\n",
      "(114, 30) (114,)\n"
     ]
    }
   ],
   "source": [
    "### (c) Split training and testing data\n",
    "X_train, X_test, y_train, y_test = train_test_split(X_scaled, Y, test_size = 0.2)\n",
    "print(X_train.shape, y_train.shape)\n",
    "print(X_test.shape, y_test.shape)"
   ]
  },
  {
   "cell_type": "code",
   "execution_count": 11,
   "id": "fa69fb90-6b84-43b1-a794-6e379d9f838b",
   "metadata": {},
   "outputs": [
    {
     "name": "stdout",
     "output_type": "stream",
     "text": [
      "F1 score by LR is 0.9897260273972602\n",
      "Misclassification rate is 0.01318681318681314\n"
     ]
    }
   ],
   "source": [
    "### (d) Logistic regression\n",
    "lr_model = LogisticRegression(random_state = 0).fit(X_train, y_train)\n",
    "y_train_pred = lr_model.predict(X_train)\n",
    "f1 = f1_score(y_train, y_train_pred)\n",
    "print(f'F1 score by LR is {f1}')\n",
    "mis_clf_rate = 1 - accuracy_score(y_train, y_train_pred)\n",
    "print(f'Misclassification rate is {mis_clf_rate}')"
   ]
  },
  {
   "cell_type": "code",
   "execution_count": 12,
   "id": "6cdd7951-521d-4bf7-b576-1263ce93fca2",
   "metadata": {},
   "outputs": [],
   "source": [
    "### (e) Fit a Random Forest by GridSearch\n",
    "depth_list = range(10,60,5)\n",
    "f1_list = []\n",
    "mis_list = []\n",
    "rf = RandomForestClassifier(n_estimators = 100)\n",
    "searching_space={'max_depth':depth_list}\n",
    "gc = GridSearchCV(rf, param_grid = searching_space,cv = 5,scoring = 'f1')\n",
    "model_grid = gc.fit(X_train, y_train)\n"
   ]
  },
  {
   "cell_type": "code",
   "execution_count": 13,
   "id": "e8133a9e-48ea-4a59-b756-c17de55a11a6",
   "metadata": {},
   "outputs": [
    {
     "name": "stdout",
     "output_type": "stream",
     "text": [
      "{'max_depth': 40}\n",
      "RandomForestClassifier(max_depth=40)\n"
     ]
    }
   ],
   "source": [
    "best_param = model_grid.best_params_\n",
    "best_model = model_grid.best_estimator_\n",
    "print(best_param)\n",
    "print(best_model)\n"
   ]
  },
  {
   "cell_type": "code",
   "execution_count": 14,
   "id": "eb1d7371-201d-44bc-b116-aff7aa3abe64",
   "metadata": {},
   "outputs": [
    {
     "name": "stdout",
     "output_type": "stream",
     "text": [
      "f1 score of train data: 1.0\n",
      "misclassification rate of train data: 0.0\n",
      "f1 score of test data: 0.9774436090225564\n",
      "misclassification rate of test data: 0.02631578947368418\n"
     ]
    }
   ],
   "source": [
    "y_train_pred = best_model.predict(X_train)\n",
    "f1_train = f1_score(y_train, y_train_pred)\n",
    "mis_rate_train = 1 - accuracy_score(y_train, y_train_pred)\n",
    "print(f'f1 score of train data: {f1_train}')\n",
    "print(f'misclassification rate of train data: {mis_rate_train}')\n",
    "\n",
    "y_test_pred = best_model.predict(X_test)\n",
    "f1_test = f1_score(y_test, y_test_pred)\n",
    "mis_rate_test = 1 - accuracy_score(y_test, y_test_pred)\n",
    "print(f'f1 score of test data: {f1_test}')\n",
    "print(f'misclassification rate of test data: {mis_rate_test}')\n"
   ]
  }
 ],
 "metadata": {
  "kernelspec": {
   "display_name": "Python 3 (ipykernel)",
   "language": "python",
   "name": "python3"
  },
  "language_info": {
   "codemirror_mode": {
    "name": "ipython",
    "version": 3
   },
   "file_extension": ".py",
   "mimetype": "text/x-python",
   "name": "python",
   "nbconvert_exporter": "python",
   "pygments_lexer": "ipython3",
   "version": "3.11.7"
  }
 },
 "nbformat": 4,
 "nbformat_minor": 5
}
