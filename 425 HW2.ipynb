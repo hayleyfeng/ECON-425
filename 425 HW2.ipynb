{
 "cells": [
  {
   "cell_type": "code",
   "execution_count": 1,
   "id": "6a0dc1e0-9763-41a0-941d-34ab73c16814",
   "metadata": {},
   "outputs": [],
   "source": [
    "# Import modules\n",
    "import pandas as pd\n",
    "import numpy as np\n",
    "import matplotlib.pyplot as plt\n",
    "from statsmodels.discrete.discrete_model import Logit\n",
    "from sklearn.metrics import confusion_matrix, precision_score, accuracy_score, f1_score, recall_score, precision_recall_curve"
   ]
  },
  {
   "cell_type": "code",
   "execution_count": 2,
   "id": "d3ea6513-c9e3-4ea1-9c0d-8a1718650a5a",
   "metadata": {},
   "outputs": [],
   "source": [
    "# Read data\n",
    "data = pd.read_csv('Weekly.csv', header = 0)"
   ]
  },
  {
   "cell_type": "code",
   "execution_count": 6,
   "id": "27f4c265-b0c1-48a1-9cc3-ec2b66cf3951",
   "metadata": {},
   "outputs": [],
   "source": [
    "# Data['Direction_num'] = pd.to_numeric(data['Direction_num'])\n",
    "data['Direction_num'] = data['Direction'] == 'Up'"
   ]
  },
  {
   "cell_type": "code",
   "execution_count": 12,
   "id": "c8810046-c641-4332-b8eb-e97226746130",
   "metadata": {},
   "outputs": [
    {
     "name": "stdout",
     "output_type": "stream",
     "text": [
      "   Year   Lag1   Lag2   Lag3   Lag4   Lag5    Volume  Today Direction  \\\n",
      "0  1990  0.816  1.572 -3.936 -0.229 -3.484  0.154976 -0.270      Down   \n",
      "1  1990 -0.270  0.816  1.572 -3.936 -0.229  0.148574 -2.576      Down   \n",
      "2  1990 -2.576 -0.270  0.816  1.572 -3.936  0.159837  3.514        Up   \n",
      "3  1990  3.514 -2.576 -0.270  0.816  1.572  0.161630  0.712        Up   \n",
      "4  1990  0.712  3.514 -2.576 -0.270  0.816  0.153728  1.178        Up   \n",
      "\n",
      "   Direction_num  \n",
      "0          False  \n",
      "1          False  \n",
      "2           True  \n",
      "3           True  \n",
      "4           True  \n"
     ]
    }
   ],
   "source": [
    "print(data.head())"
   ]
  },
  {
   "cell_type": "code",
   "execution_count": 20,
   "id": "6915c680-4d6a-4958-8b11-cc2c6a2e5fd1",
   "metadata": {},
   "outputs": [
    {
     "name": "stdout",
     "output_type": "stream",
     "text": [
      "Optimization terminated successfully.\n",
      "         Current function value: 0.686896\n",
      "         Iterations 4\n",
      "                           Logit Regression Results                           \n",
      "==============================================================================\n",
      "Dep. Variable:          Direction_num   No. Observations:                 1089\n",
      "Model:                          Logit   Df Residuals:                     1083\n",
      "Method:                           MLE   Df Model:                            5\n",
      "Date:                Mon, 18 Mar 2024   Pseudo R-squ.:               9.505e-05\n",
      "Time:                        11:57:39   Log-Likelihood:                -748.03\n",
      "converged:                       True   LL-Null:                       -748.10\n",
      "Covariance Type:            nonrobust   LLR p-value:                    0.9996\n",
      "==============================================================================\n",
      "                 coef    std err          z      P>|z|      [0.025      0.975]\n",
      "------------------------------------------------------------------------------\n",
      "Lag1          -0.0327      0.026     -1.250      0.211      -0.084       0.019\n",
      "Lag2           0.0682      0.027      2.556      0.011       0.016       0.120\n",
      "Lag3          -0.0081      0.026     -0.306      0.759      -0.060       0.044\n",
      "Lag4          -0.0194      0.026     -0.740      0.459      -0.071       0.032\n",
      "Lag5          -0.0069      0.026     -0.261      0.794      -0.058       0.045\n",
      "Volume         0.0569      0.027      2.125      0.034       0.004       0.109\n",
      "==============================================================================\n"
     ]
    }
   ],
   "source": [
    "# Logit regression with full dataset\n",
    "X_train = data[['Lag1', 'Lag2', 'Lag3', 'Lag4', 'Lag5', 'Volume']]\n",
    "Y_train = data['Direction_num']\n",
    "model_1 = Logit(Y_train, X_train).fit()\n",
    "print(model_1.summary())"
   ]
  },
  {
   "cell_type": "code",
   "execution_count": 21,
   "id": "b0d8e4a2-fd5e-4d69-b697-a918bb29b52d",
   "metadata": {},
   "outputs": [
    {
     "name": "stdout",
     "output_type": "stream",
     "text": [
      "Precision =  0.577807848443843\n",
      "Recall =  0.7057851239669422\n",
      "F1-score =  0.6354166666666666\n",
      "Accuracy = 0.5500459136822773\n"
     ]
    },
    {
     "data": {
      "image/png": "[encoded data removed]",
      "text/plain": [
       "<Figure size 640x480 with 1 Axes>"
      ]
     },
     "metadata": {},
     "output_type": "display_data"
    }
   ],
   "source": [
    "# Create labels (Y_train) for metrics calculation\n",
    "Y_pred_raw = model_1.predict(X_train)\n",
    "Y_pred_label = Y_pred_raw >= 0.5\n",
    "\n",
    "# Calculate metrics (Y_train)\n",
    "confusion_matrix(Y_train, Y_pred_label)\n",
    "print('Precision = ', precision_score(Y_train, Y_pred_label))\n",
    "print('Recall = ', recall_score(Y_train, Y_pred_label))\n",
    "print('F1-score = ', f1_score(Y_train, Y_pred_label))\n",
    "print('Accuracy =', accuracy_score(Y_train, Y_pred_label))\n",
    "\n",
    "# Plot precision and recall against the threshold\n",
    "prec, rec, thresholds = precision_recall_curve(Y_train, Y_pred_raw)\n",
    "plt.plot(np.append(thresholds, 1), prec, label = 'Precision')\n",
    "plt.plot(np.append(thresholds, 1), rec, label = 'Recall')\n",
    "plt.xlabel('Threshold')\n",
    "plt.legend()\n",
    "plt.show()"
   ]
  },
  {
   "cell_type": "code",
   "execution_count": 25,
   "id": "fef5aa32-3370-4930-a852-36aeb80e1257",
   "metadata": {},
   "outputs": [
    {
     "name": "stdout",
     "output_type": "stream",
     "text": [
      "Optimization terminated successfully.\n",
      "         Current function value: 0.690654\n",
      "         Iterations 4\n",
      "                           Logit Regression Results                           \n",
      "==============================================================================\n",
      "Dep. Variable:          Direction_num   No. Observations:                  985\n",
      "Model:                          Logit   Df Residuals:                      984\n",
      "Method:                           MLE   Df Model:                            0\n",
      "Date:                Mon, 18 Mar 2024   Pseudo R-squ.:               -0.004340\n",
      "Time:                        12:17:02   Log-Likelihood:                -680.29\n",
      "converged:                       True   LL-Null:                       -677.35\n",
      "Covariance Type:            nonrobust   LLR p-value:                       nan\n",
      "==============================================================================\n",
      "                 coef    std err          z      P>|z|      [0.025      0.975]\n",
      "------------------------------------------------------------------------------\n",
      "Lag2           0.0629      0.029      2.192      0.028       0.007       0.119\n",
      "==============================================================================\n"
     ]
    }
   ],
   "source": [
    "# Logit reg with 1990-2008 data and Lag2 only\n",
    "data_08 = data[(data['Year'] >= 1990) & (data['Year'] <= 2008)]\n",
    "Y_train_08 = data_08['Direction_num']\n",
    "X_train_08 = data_08['Lag2']\n",
    "model_2 = Logit(Y_train_08, X_train_08).fit()\n",
    "print(model_02.summary())"
   ]
  },
  {
   "cell_type": "code",
   "execution_count": 24,
   "id": "9bb5028a-9fb6-4cb4-ab90-3df72ecb10e8",
   "metadata": {},
   "outputs": [],
   "source": [
    "# Remaining data\n",
    "data_test = data[(data['Year'] > 2008)]\n",
    "X_test = data_test['Lag2']\n",
    "Y_test = data_test['Direction_num']"
   ]
  },
  {
   "cell_type": "code",
   "execution_count": 28,
   "id": "dcc2edec-0187-4c94-b472-e1b086778abd",
   "metadata": {},
   "outputs": [
    {
     "name": "stdout",
     "output_type": "stream",
     "text": [
      "Precision =  0.6166666666666667\n",
      "Recall =  0.6065573770491803\n",
      "F1-score =  0.6115702479338844\n",
      "Accuracy =  0.5480769230769231\n"
     ]
    }
   ],
   "source": [
    "# Create labels (Y_test) for metrics calculation\n",
    "Y_test_pred_raw = model_2.predict(X_test)\n",
    "Y_test_pred_label = Y_test_pred_raw >= 0.5\n",
    "\n",
    "# Calculate metrics (Y_test)\n",
    "confusion_matrix(Y_test, Y_test_pred_label)\n",
    "print('Precision = ', precision_score(Y_test, Y_test_pred_label))\n",
    "print('Recall = ', recall_score(Y_test, Y_test_pred_label))\n",
    "print('F1-score = ', f1_score(Y_test, Y_test_pred_label))\n",
    "print('Accuracy = ', accuracy_score(Y_test, Y_test_pred_label))"
   ]
  }
 ],
 "metadata": {
  "kernelspec": {
   "display_name": "Python 3 (ipykernel)",
   "language": "python",
   "name": "python3"
  },
  "language_info": {
   "codemirror_mode": {
    "name": "ipython",
    "version": 3
   },
   "file_extension": ".py",
   "mimetype": "text/x-python",
   "name": "python",
   "nbconvert_exporter": "python",
   "pygments_lexer": "ipython3",
   "version": "3.11.7"
  }
 },
 "nbformat": 4,
 "nbformat_minor": 5
}
